{
  "nbformat": 4,
  "nbformat_minor": 0,
  "metadata": {
    "colab": {
      "provenance": []
    },
    "kernelspec": {
      "name": "python3",
      "display_name": "Python 3"
    },
    "language_info": {
      "name": "python"
    }
  },
  "cells": [
    {
      "cell_type": "code",
      "execution_count": null,
      "metadata": {
        "id": "g56spxiFV5xI"
      },
      "outputs": [],
      "source": [
        "# TODO: take away X,Y,Z from dataset and retrain model\n",
        "# Work on getting confidence of each pick"
      ]
    },
    {
      "cell_type": "code",
      "source": [
        "import cv2\n",
        "from google.colab.patches import cv2_imshow\n",
        "import matplotlib.pyplot as plt\n",
        "import numpy as np\n",
        "from numpy import asarray\n",
        "from PIL import Image\n",
        "import tensorflow as tf"
      ],
      "metadata": {
        "id": "wmzuF8AnbUqe"
      },
      "execution_count": 194,
      "outputs": []
    },
    {
      "cell_type": "code",
      "source": [
        "img = cv2.imread(\"INPUT_TEST_IMAGE.jpg\")"
      ],
      "metadata": {
        "id": "mTGS6hE6ZaRQ"
      },
      "execution_count": 19,
      "outputs": []
    },
    {
      "cell_type": "code",
      "source": [
        "def adjustBrightness(image, brightness_factor):\n",
        "    # scale pixel values by brightness factor\n",
        "    return cv2.addWeighted(image, 1 + brightness_factor, image, 0, 0)"
      ],
      "metadata": {
        "id": "YR7d7mphdjIO"
      },
      "execution_count": 35,
      "outputs": []
    },
    {
      "cell_type": "code",
      "source": [
        "def adjustContrast(image, contrast_factor):\n",
        "    # scale pixel values by contrast factor\n",
        "    mean = cv2.mean(image)[0]\n",
        "    return cv2.addWeighted(image, contrast_factor, image, 0, mean * (1 - contrast_factor))"
      ],
      "metadata": {
        "id": "ImAT9rgAdoYX"
      },
      "execution_count": 37,
      "outputs": []
    },
    {
      "cell_type": "code",
      "source": [
        "def preprocessImage(img):\n",
        "  grayImg = cv2.cvtColor(img, cv2.COLOR_BGR2GRAY)\n",
        "  grayImg = cv2.GaussianBlur(grayImg, (5, 5), 0)\n",
        "  brightnedImg = adjustBrightness(grayImg, 2.5)\n",
        "  contrasted_gray = adjustContrast(brightnedImg, 2.0)\n",
        "\n",
        "  # Method 1\n",
        "  # filtered = cv2.bilateralFilter(contrasted_gray, 11, 17, 17)\n",
        "  # thresh = cv2.adaptiveThreshold(contrasted_gray, 255, cv2.ADAPTIVE_THRESH_MEAN_C, cv2.THRESH_BINARY, 11, 2)\n",
        "  # kernel = cv2.getStructuringElement(cv2.MORPH_RECT, (3,3))\n",
        "  # cleaned = cv2.morphologyEx(thresh, cv2.MORPH_OPEN, kernel)\n",
        "\n",
        "  # Method 2\n",
        "  ret, thresh = cv2.threshold(contrasted_gray, 200, 255, cv2.THRESH_BINARY)\n",
        "  invertedThresh = cv2.bitwise_not(thresh)\n",
        "  cv2_imshow(invertedThresh)\n",
        "\n",
        "  return invertedThresh"
      ],
      "metadata": {
        "id": "pJS0w7Kxbizs"
      },
      "execution_count": 142,
      "outputs": []
    },
    {
      "cell_type": "code",
      "source": [
        "processedImg = preprocessImage(img)"
      ],
      "metadata": {
        "id": "F6-QtIyobwOS"
      },
      "execution_count": null,
      "outputs": []
    },
    {
      "cell_type": "code",
      "source": [
        "def segmentImage(img):\n",
        "  digits = []\n",
        "  contours, hierarchy = cv2.findContours(img, cv2.RETR_EXTERNAL, cv2.CHAIN_APPROX_SIMPLE)\n",
        "\n",
        "  # for cnt in contours:\n",
        "  #   x, y, w, h = cv2.boundingRect(cnt)\n",
        "  #   if w > 10 and h > 10: # Filter out small noise contours\n",
        "  #       # Extract the digit and save as a separate image\n",
        "\n",
        "  #       digit = img[y:y+h, x:x+w]\n",
        "  #       digits.append(digit)\n",
        "  #       cv2_imshow(digit)\n",
        "  #       # cv2.imwrite('digit_{}.jpg'.format(x), digit)\n",
        "\n",
        "  for contour in contours:\n",
        "    # Get the bounding rectangle\n",
        "    x, y, w, h = cv2.boundingRect(contour)\n",
        "    \n",
        "    # Crop the bounding rectangle from the original image\n",
        "    digit = img[y:y+h, x:x+w]\n",
        "    digits.append(digit)\n",
        "\n",
        "    # removing images that are too small\n",
        "    finalDigits = []\n",
        "    for i in range(len(digits)):\n",
        "        if np.shape(digits[i])[0] > 16:\n",
        "          finalDigits.append(digits[i])\n",
        "\n",
        "  return finalDigits"
      ],
      "metadata": {
        "id": "H8p_o013fXgl"
      },
      "execution_count": 166,
      "outputs": []
    },
    {
      "cell_type": "code",
      "source": [
        "digits = segmentImage(processedImg)"
      ],
      "metadata": {
        "id": "CdVQysJqiTTk"
      },
      "execution_count": 167,
      "outputs": []
    },
    {
      "cell_type": "code",
      "source": [
        "model = tf.keras.models.load_model('DigitClassifier.h5')"
      ],
      "metadata": {
        "id": "ol3yV6ONtoLS"
      },
      "execution_count": 172,
      "outputs": []
    },
    {
      "cell_type": "code",
      "source": [
        "def predictValues(digits):\n",
        "  predictions = []\n",
        "  accuracies = []\n",
        "  for digit in digits:\n",
        "    image = Image.fromarray(digit)\n",
        "    resized_image = image.resize((64, 64))\n",
        "    numpy_image = asarray(resized_image)\n",
        "    finalArray = np.reshape(numpy_image, (1, 64, 64, 1))\n",
        "    # final = np.expand_dims(resized_image, axis=-1) # Add a channel dimension\n",
        "    # print(final.shape)\n",
        "\n",
        "    prediction = model.predict(finalArray)\n",
        "    predictions.append(prediction)\n",
        "  return predictions"
      ],
      "metadata": {
        "id": "ehQBQZFgt-56"
      },
      "execution_count": 207,
      "outputs": []
    },
    {
      "cell_type": "code",
      "source": [
        "predictions = predictValues(digits)"
      ],
      "metadata": {
        "colab": {
          "base_uri": "https://localhost:8080/"
        },
        "id": "JsmVUqEAvGhM",
        "outputId": "3de2ca69-dec8-4b78-baf0-bb632748f09c"
      },
      "execution_count": 208,
      "outputs": [
        {
          "output_type": "stream",
          "name": "stdout",
          "text": [
            "1/1 [==============================] - 0s 265ms/step\n",
            "1/1 [==============================] - 0s 26ms/step\n",
            "1/1 [==============================] - 0s 26ms/step\n",
            "1/1 [==============================] - 0s 26ms/step\n"
          ]
        }
      ]
    },
    {
      "cell_type": "code",
      "source": [
        "def getIndexMappingPrediction(predicted_class_index):\n",
        "  string_to_index = {\n",
        "        \"0\": 0,\n",
        "        \"1\": 1,\n",
        "        \"2\": 2,\n",
        "        \"3\": 3,\n",
        "        \"4\": 4,\n",
        "        \"5\": 5,\n",
        "        \"6\": 6,\n",
        "        \"7\": 7,\n",
        "        \"8\": 8,\n",
        "        \"9\": 9,\n",
        "        \"add\": 10,\n",
        "        \"dec\": 11,\n",
        "        \"eq\": 12,\n",
        "        \"div\": 13,\n",
        "        \"mul\": 14,\n",
        "        \"sub\": 15,\n",
        "        \"x\": 16,\n",
        "        \"y\": 17,\n",
        "        \"z\": 18,\n",
        "    }\n",
        "  index_to_string = {v: k for k, v in string_to_index.items()}\n",
        "  predicted_class_label = index_to_string[predicted_class_index]\n",
        "  return predicted_class_label"
      ],
      "metadata": {
        "id": "BHSnOwgx0TD5"
      },
      "execution_count": 213,
      "outputs": []
    },
    {
      "cell_type": "code",
      "source": [
        "for prediction in predictions:\n",
        "  predicted_class_index = np.argmax(prediction)\n",
        "  label = getIndexMappingPrediction(predicted_class_index)\n",
        "  print(label)"
      ],
      "metadata": {
        "colab": {
          "base_uri": "https://localhost:8080/"
        },
        "id": "z_-fGBFzzLam",
        "outputId": "0b6476d3-1e1b-4e58-d8e3-e165ed225de7"
      },
      "execution_count": 214,
      "outputs": [
        {
          "output_type": "stream",
          "name": "stdout",
          "text": [
            "8\n",
            "8\n",
            "z\n",
            "x\n"
          ]
        }
      ]
    }
  ]
}